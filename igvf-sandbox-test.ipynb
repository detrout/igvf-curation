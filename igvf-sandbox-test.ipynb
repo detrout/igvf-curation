{
 "cells": [
  {
   "cell_type": "markdown",
   "id": "chief-arbitration",
   "metadata": {},
   "source": [
    "# Introduction"
   ]
  },
  {
   "cell_type": "markdown",
   "id": "precise-agriculture",
   "metadata": {},
   "source": [
    "We're now on to the IGVF project, but the portal derives from the ENCODE Portal. What can we access?"
   ]
  },
  {
   "cell_type": "code",
   "execution_count": 1,
   "id": "recovered-prevention",
   "metadata": {},
   "outputs": [],
   "source": [
    "import base64\n",
    "from io import BytesIO\n",
    "from IPython.display import HTML\n",
    "from matplotlib import pyplot\n",
    "import os\n",
    "import pandas\n",
    "from pathlib import Path\n",
    "import requests\n",
    "import re\n",
    "import sys"
   ]
  },
  {
   "cell_type": "code",
   "execution_count": 2,
   "id": "71ecb35c",
   "metadata": {},
   "outputs": [
    {
     "name": "stdout",
     "output_type": "stream",
     "text": [
      "amarana\r\n"
     ]
    }
   ],
   "source": [
    "!hostname"
   ]
  },
  {
   "cell_type": "code",
   "execution_count": 3,
   "id": "chubby-kitchen",
   "metadata": {},
   "outputs": [],
   "source": [
    "%matplotlib agg"
   ]
  },
  {
   "cell_type": "code",
   "execution_count": 4,
   "id": "empirical-priest",
   "metadata": {},
   "outputs": [],
   "source": [
    "EC = str(Path(\"~/proj/encoded_client\").expanduser())\n",
    "if EC not in sys.path:\n",
    "    sys.path.append(EC)"
   ]
  },
  {
   "cell_type": "code",
   "execution_count": 5,
   "id": "electoral-valentine",
   "metadata": {},
   "outputs": [],
   "source": [
    "from encoded_client.encoded import ENCODED, get_object_type"
   ]
  },
  {
   "cell_type": "code",
   "execution_count": 6,
   "id": "lasting-jackson",
   "metadata": {},
   "outputs": [],
   "source": [
    "server = ENCODED(\"api.sandbox.igvf.org\")\n",
    "server.load_netrc()"
   ]
  },
  {
   "cell_type": "code",
   "execution_count": 7,
   "id": "accompanied-lindsay",
   "metadata": {},
   "outputs": [
    {
     "name": "stdout",
     "output_type": "stream",
     "text": [
      "IGVFSM0366ILTA released\n",
      "IGVFSM0834IWLA released\n",
      "IGVFSM0938LEWA released\n",
      "IGVFSM0288ADOA released\n",
      "IGVFSM0015ASWA in progress\n",
      "IGVFSM0183TUKA in progress\n",
      "IGVFSM0751JVRA in progress\n",
      "IGVFSM0847DXMA in progress\n",
      "IGVFSM0979DJUA released\n",
      "IGVFSM0942UYRA released\n",
      "IGVFSM0951XEVA released\n",
      "IGVFSM0756ANEA released\n",
      "IGVFSM0309MNHA released\n",
      "IGVFSM0396KLAA in progress\n",
      "IGVFSM0223IAKA in progress\n",
      "IGVFSM0432THDA released\n"
     ]
    }
   ],
   "source": [
    "graph = server.get_json(\"/tissues\", limit=50)\n",
    "\n",
    "for row in graph[\"@graph\"]:\n",
    "    print(row[\"accession\"], row[\"status\"])"
   ]
  },
  {
   "cell_type": "code",
   "execution_count": 8,
   "id": "0f445600",
   "metadata": {},
   "outputs": [
    {
     "name": "stdout",
     "output_type": "stream",
     "text": [
      "16\n"
     ]
    }
   ],
   "source": [
    "graph = server.search_jsonld(type=\"Tissue\")\n",
    "\n",
    "print(len(graph[\"@graph\"]))"
   ]
  },
  {
   "cell_type": "code",
   "execution_count": 9,
   "id": "e34ed1c1",
   "metadata": {},
   "outputs": [
    {
     "data": {
      "text/plain": [
       "{'@graph': [{'@id': '/sources/jackson-labs/',\n",
       "   '@type': ['Source', 'Item'],\n",
       "   'description': 'The Jackson Laboratory',\n",
       "   'name': 'jackson-labs',\n",
       "   'title': 'The Jackson Laboratory',\n",
       "   '@context': {'@base': 'https://api.sandbox.igvf.org/sources/jackson-labs/',\n",
       "    '@vocab': 'https://api.sandbox.igvf.org/profiles/source.json#',\n",
       "    'award': {'@type': '@id'},\n",
       "    'dataset': {'@type': '@id'},\n",
       "    'description': 'rdf:description',\n",
       "    'documents': {'@type': '@id'},\n",
       "    'experiment': {'@type': '@id'},\n",
       "    'href': {'@type': '@id'},\n",
       "    'lab': {'@type': '@id'},\n",
       "    'library': {'@type': '@id'},\n",
       "    'pi': {'@type': '@id'},\n",
       "    'platform': {'@type': '@id'},\n",
       "    'replicates': {'@type': '@id'},\n",
       "    'submitted_by': {'@type': '@id'},\n",
       "    'url': {'@type': '@id'}}}],\n",
       " '@id': '/search/?searchTerm=Jackson+Labs&type=Source',\n",
       " '@type': ['Search'],\n",
       " 'clear_filters': '/search/?searchTerm=Jackson+Labs',\n",
       " 'columns': {'@id': {'title': 'ID'},\n",
       "  'aliases': {'title': 'Aliases'},\n",
       "  'title': {'title': 'Title'},\n",
       "  'description': {'title': 'Description'},\n",
       "  'name': {'title': 'Name'}},\n",
       " 'facet_groups': [],\n",
       " 'facets': [{'field': 'type',\n",
       "   'title': 'Data Type',\n",
       "   'terms': [{'key': 'Source', 'doc_count': 1}],\n",
       "   'total': 1,\n",
       "   'type': 'terms',\n",
       "   'appended': False,\n",
       "   'open_on_load': False}],\n",
       " 'filters': [{'field': 'type',\n",
       "   'term': 'Source',\n",
       "   'remove': '/search/?searchTerm=Jackson+Labs'},\n",
       "  {'field': 'searchTerm',\n",
       "   'term': 'Jackson Labs',\n",
       "   'remove': '/search/?type=Source'}],\n",
       " 'notification': 'Success',\n",
       " 'title': 'Search',\n",
       " 'total': 1,\n",
       " '@context': {'@base': 'https://api.sandbox.igvf.org/search/?searchTerm=Jackson+Labs&type=Source',\n",
       "  '@vocab': 'https://api.sandbox.igvf.org/profiles/search.json#',\n",
       "  'award': {'@type': '@id'},\n",
       "  'dataset': {'@type': '@id'},\n",
       "  'description': 'rdf:description',\n",
       "  'documents': {'@type': '@id'},\n",
       "  'experiment': {'@type': '@id'},\n",
       "  'href': {'@type': '@id'},\n",
       "  'lab': {'@type': '@id'},\n",
       "  'library': {'@type': '@id'},\n",
       "  'pi': {'@type': '@id'},\n",
       "  'platform': {'@type': '@id'},\n",
       "  'replicates': {'@type': '@id'},\n",
       "  'submitted_by': {'@type': '@id'},\n",
       "  'url': {'@type': '@id'},\n",
       "  'rdf': 'http://www.w3.org/1999/02/22-rdf-syntax-ns#',\n",
       "  'rdfs': 'http://www.w3.org/2000/01/rdf-schema#',\n",
       "  'owl': 'http://www.w3.org/2002/07/owl#',\n",
       "  'dc': 'htp://purl.org/dc/elements/1.1/',\n",
       "  'xsd': 'http://www.w3.org/2001/XMLSchema#',\n",
       "  'vcard': 'http://www.w3.org/2006/vcard/ns#',\n",
       "  'EFO': 'http://www.ebi.ac.uk/efo/',\n",
       "  'OBO': 'http://purl.obolibrary.org/obo/',\n",
       "  'OBI': 'http://purl.obolibrary.org/obo/OBI_',\n",
       "  'SO': 'http://purl.obolibrary.org/obo/SO_'}}"
      ]
     },
     "execution_count": 9,
     "metadata": {},
     "output_type": "execute_result"
    }
   ],
   "source": [
    "server.search_jsonld(searchTerm=\"Jackson Labs\", type=\"Source\")"
   ]
  },
  {
   "cell_type": "code",
   "execution_count": 10,
   "id": "f130fdfc",
   "metadata": {},
   "outputs": [
    {
     "data": {
      "text/plain": [
       "{'lab': '/labs/jay-shendure/',\n",
       " 'taxa': 'Homo sapiens',\n",
       " 'award': '/awards/HG011966/',\n",
       " 'donors': ['/human-donors/IGVFDO0074AWJA/'],\n",
       " 'source': '/labs/jesse-engreitz/',\n",
       " 'status': 'released',\n",
       " 'accession': 'IGVFSM0781OFYA',\n",
       " 'submitted_by': '/users/43f2f757-5cbf-490a-9787-a1ee85a4cdcd/',\n",
       " 'date_obtained': '2022-05-01',\n",
       " 'biosample_term': '/sample-terms/CL_0011020/',\n",
       " 'passage_number': 2,\n",
       " 'schema_version': '9',\n",
       " 'starting_amount': 10000,\n",
       " 'creation_timestamp': '2022-07-28T22:19:32.637241+00:00',\n",
       " 'starting_amount_units': 'cells',\n",
       " 'nih_institutional_certification': 'NIC00006',\n",
       " '@id': '/primary-cells/IGVFSM0781OFYA/',\n",
       " '@type': ['PrimaryCell', 'Biosample', 'Sample', 'Item'],\n",
       " 'uuid': '47b4835c-16e3-4829-a3a7-f08e6ef7c84b',\n",
       " 'summary': 'IGVFSM0781OFYA',\n",
       " 'sex': 'unspecified',\n",
       " 'age': 'unknown',\n",
       " '@context': '/terms/',\n",
       " 'audit': {}}"
      ]
     },
     "execution_count": 10,
     "metadata": {},
     "output_type": "execute_result"
    }
   ],
   "source": [
    "server.get_json(\"/primary-cells/IGVFSM0781OFYA\")"
   ]
  },
  {
   "cell_type": "code",
   "execution_count": null,
   "id": "1890ae20",
   "metadata": {},
   "outputs": [],
   "source": []
  }
 ],
 "metadata": {
  "kernelspec": {
   "display_name": "Python 3 (ipykernel)",
   "language": "python",
   "name": "python3"
  },
  "language_info": {
   "codemirror_mode": {
    "name": "ipython",
    "version": 3
   },
   "file_extension": ".py",
   "mimetype": "text/x-python",
   "name": "python",
   "nbconvert_exporter": "python",
   "pygments_lexer": "ipython3",
   "version": "3.10.9"
  }
 },
 "nbformat": 4,
 "nbformat_minor": 5
}
